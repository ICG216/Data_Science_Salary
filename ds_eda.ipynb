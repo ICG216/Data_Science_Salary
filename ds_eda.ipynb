{
 "cells": [
  {
   "cell_type": "markdown",
   "metadata": {},
   "source": [
    "# <center> Data Analysis on Salaries </center> "
   ]
  },
  {
   "cell_type": "code",
   "execution_count": 2,
   "metadata": {},
   "outputs": [],
   "source": [
    "import pandas as pd\n",
    "import numpy as np\n",
    "import matplotlib.pyplot as plt"
   ]
  },
  {
   "cell_type": "code",
   "execution_count": 3,
   "metadata": {},
   "outputs": [],
   "source": [
    "df = pd.read_csv(r'Data/ds_salaries.csv')"
   ]
  },
  {
   "cell_type": "markdown",
   "metadata": {},
   "source": [
    "## Preprocessing"
   ]
  },
  {
   "cell_type": "code",
   "execution_count": 6,
   "metadata": {},
   "outputs": [
    {
     "data": {
      "text/html": [
       "<div>\n",
       "<style scoped>\n",
       "    .dataframe tbody tr th:only-of-type {\n",
       "        vertical-align: middle;\n",
       "    }\n",
       "\n",
       "    .dataframe tbody tr th {\n",
       "        vertical-align: top;\n",
       "    }\n",
       "\n",
       "    .dataframe thead th {\n",
       "        text-align: right;\n",
       "    }\n",
       "</style>\n",
       "<table border=\"1\" class=\"dataframe\">\n",
       "  <thead>\n",
       "    <tr style=\"text-align: right;\">\n",
       "      <th></th>\n",
       "      <th>work_year</th>\n",
       "      <th>experience_level</th>\n",
       "      <th>employment_type</th>\n",
       "      <th>job_title</th>\n",
       "      <th>salary</th>\n",
       "      <th>salary_currency</th>\n",
       "      <th>salary_in_usd</th>\n",
       "      <th>employee_residence</th>\n",
       "      <th>remote_ratio</th>\n",
       "      <th>company_location</th>\n",
       "      <th>company_size</th>\n",
       "    </tr>\n",
       "  </thead>\n",
       "  <tbody>\n",
       "    <tr>\n",
       "      <th>0</th>\n",
       "      <td>2023</td>\n",
       "      <td>SE</td>\n",
       "      <td>FT</td>\n",
       "      <td>Principal Data Scientist</td>\n",
       "      <td>80000</td>\n",
       "      <td>EUR</td>\n",
       "      <td>85847</td>\n",
       "      <td>ES</td>\n",
       "      <td>100</td>\n",
       "      <td>ES</td>\n",
       "      <td>L</td>\n",
       "    </tr>\n",
       "    <tr>\n",
       "      <th>1</th>\n",
       "      <td>2023</td>\n",
       "      <td>MI</td>\n",
       "      <td>CT</td>\n",
       "      <td>ML Engineer</td>\n",
       "      <td>30000</td>\n",
       "      <td>USD</td>\n",
       "      <td>30000</td>\n",
       "      <td>US</td>\n",
       "      <td>100</td>\n",
       "      <td>US</td>\n",
       "      <td>S</td>\n",
       "    </tr>\n",
       "    <tr>\n",
       "      <th>2</th>\n",
       "      <td>2023</td>\n",
       "      <td>MI</td>\n",
       "      <td>CT</td>\n",
       "      <td>ML Engineer</td>\n",
       "      <td>25500</td>\n",
       "      <td>USD</td>\n",
       "      <td>25500</td>\n",
       "      <td>US</td>\n",
       "      <td>100</td>\n",
       "      <td>US</td>\n",
       "      <td>S</td>\n",
       "    </tr>\n",
       "  </tbody>\n",
       "</table>\n",
       "</div>"
      ],
      "text/plain": [
       "   work_year experience_level employment_type                 job_title  \\\n",
       "0       2023               SE              FT  Principal Data Scientist   \n",
       "1       2023               MI              CT               ML Engineer   \n",
       "2       2023               MI              CT               ML Engineer   \n",
       "\n",
       "   salary salary_currency  salary_in_usd employee_residence  remote_ratio  \\\n",
       "0   80000             EUR          85847                 ES           100   \n",
       "1   30000             USD          30000                 US           100   \n",
       "2   25500             USD          25500                 US           100   \n",
       "\n",
       "  company_location company_size  \n",
       "0               ES            L  \n",
       "1               US            S  \n",
       "2               US            S  "
      ]
     },
     "execution_count": 6,
     "metadata": {},
     "output_type": "execute_result"
    }
   ],
   "source": [
    "df.head(3)"
   ]
  },
  {
   "cell_type": "code",
   "execution_count": 7,
   "metadata": {},
   "outputs": [
    {
     "data": {
      "text/plain": [
       "Index(['work_year', 'experience_level', 'employment_type', 'job_title',\n",
       "       'salary', 'salary_currency', 'salary_in_usd', 'employee_residence',\n",
       "       'remote_ratio', 'company_location', 'company_size'],\n",
       "      dtype='object')"
      ]
     },
     "execution_count": 7,
     "metadata": {},
     "output_type": "execute_result"
    }
   ],
   "source": [
    "df.columns"
   ]
  },
  {
   "cell_type": "code",
   "execution_count": 8,
   "metadata": {},
   "outputs": [
    {
     "data": {
      "text/plain": [
       "(3755, 11)"
      ]
     },
     "execution_count": 8,
     "metadata": {},
     "output_type": "execute_result"
    }
   ],
   "source": [
    "df.shape"
   ]
  },
  {
   "cell_type": "code",
   "execution_count": 13,
   "metadata": {},
   "outputs": [
    {
     "data": {
      "text/plain": [
       "np.int64(1171)"
      ]
     },
     "execution_count": 13,
     "metadata": {},
     "output_type": "execute_result"
    }
   ],
   "source": [
    "df.duplicated().sum()"
   ]
  },
  {
   "cell_type": "code",
   "execution_count": 21,
   "metadata": {},
   "outputs": [
    {
     "data": {
      "text/html": [
       "<div>\n",
       "<style scoped>\n",
       "    .dataframe tbody tr th:only-of-type {\n",
       "        vertical-align: middle;\n",
       "    }\n",
       "\n",
       "    .dataframe tbody tr th {\n",
       "        vertical-align: top;\n",
       "    }\n",
       "\n",
       "    .dataframe thead th {\n",
       "        text-align: right;\n",
       "    }\n",
       "</style>\n",
       "<table border=\"1\" class=\"dataframe\">\n",
       "  <thead>\n",
       "    <tr style=\"text-align: right;\">\n",
       "      <th></th>\n",
       "      <th></th>\n",
       "      <th></th>\n",
       "      <th></th>\n",
       "      <th></th>\n",
       "      <th></th>\n",
       "      <th></th>\n",
       "      <th></th>\n",
       "      <th></th>\n",
       "      <th></th>\n",
       "      <th></th>\n",
       "      <th>count</th>\n",
       "    </tr>\n",
       "    <tr>\n",
       "      <th>work_year</th>\n",
       "      <th>experience_level</th>\n",
       "      <th>employment_type</th>\n",
       "      <th>job_title</th>\n",
       "      <th>salary</th>\n",
       "      <th>salary_currency</th>\n",
       "      <th>salary_in_usd</th>\n",
       "      <th>employee_residence</th>\n",
       "      <th>remote_ratio</th>\n",
       "      <th>company_location</th>\n",
       "      <th>company_size</th>\n",
       "      <th></th>\n",
       "    </tr>\n",
       "  </thead>\n",
       "  <tbody>\n",
       "    <tr>\n",
       "      <th rowspan=\"2\" valign=\"top\">2022</th>\n",
       "      <th rowspan=\"2\" valign=\"top\">SE</th>\n",
       "      <th rowspan=\"2\" valign=\"top\">FT</th>\n",
       "      <th rowspan=\"2\" valign=\"top\">Data Scientist</th>\n",
       "      <th>141525</th>\n",
       "      <th>USD</th>\n",
       "      <th>141525</th>\n",
       "      <th>US</th>\n",
       "      <th>100</th>\n",
       "      <th>US</th>\n",
       "      <th>M</th>\n",
       "      <td>21</td>\n",
       "    </tr>\n",
       "    <tr>\n",
       "      <th>191475</th>\n",
       "      <th>USD</th>\n",
       "      <th>191475</th>\n",
       "      <th>US</th>\n",
       "      <th>100</th>\n",
       "      <th>US</th>\n",
       "      <th>M</th>\n",
       "      <td>21</td>\n",
       "    </tr>\n",
       "    <tr>\n",
       "      <th rowspan=\"2\" valign=\"top\">2023</th>\n",
       "      <th rowspan=\"2\" valign=\"top\">SE</th>\n",
       "      <th rowspan=\"2\" valign=\"top\">FT</th>\n",
       "      <th rowspan=\"2\" valign=\"top\">Data Engineer</th>\n",
       "      <th>252000</th>\n",
       "      <th>USD</th>\n",
       "      <th>252000</th>\n",
       "      <th>US</th>\n",
       "      <th>0</th>\n",
       "      <th>US</th>\n",
       "      <th>M</th>\n",
       "      <td>13</td>\n",
       "    </tr>\n",
       "    <tr>\n",
       "      <th>129000</th>\n",
       "      <th>USD</th>\n",
       "      <th>129000</th>\n",
       "      <th>US</th>\n",
       "      <th>0</th>\n",
       "      <th>US</th>\n",
       "      <th>M</th>\n",
       "      <td>13</td>\n",
       "    </tr>\n",
       "    <tr>\n",
       "      <th rowspan=\"3\" valign=\"top\">2022</th>\n",
       "      <th rowspan=\"3\" valign=\"top\">SE</th>\n",
       "      <th rowspan=\"3\" valign=\"top\">FT</th>\n",
       "      <th>Data Engineer</th>\n",
       "      <th>130000</th>\n",
       "      <th>USD</th>\n",
       "      <th>130000</th>\n",
       "      <th>US</th>\n",
       "      <th>0</th>\n",
       "      <th>US</th>\n",
       "      <th>M</th>\n",
       "      <td>12</td>\n",
       "    </tr>\n",
       "    <tr>\n",
       "      <th>...</th>\n",
       "      <th>...</th>\n",
       "      <th>...</th>\n",
       "      <th>...</th>\n",
       "      <th>...</th>\n",
       "      <th>...</th>\n",
       "      <th>...</th>\n",
       "      <th>...</th>\n",
       "      <td>...</td>\n",
       "    </tr>\n",
       "    <tr>\n",
       "      <th>Data Scientist</th>\n",
       "      <th>92000</th>\n",
       "      <th>USD</th>\n",
       "      <th>92000</th>\n",
       "      <th>US</th>\n",
       "      <th>100</th>\n",
       "      <th>US</th>\n",
       "      <th>L</th>\n",
       "      <td>2</td>\n",
       "    </tr>\n",
       "    <tr>\n",
       "      <th rowspan=\"3\" valign=\"top\">2023</th>\n",
       "      <th>EX</th>\n",
       "      <th>FT</th>\n",
       "      <th>Data Engineer</th>\n",
       "      <th>235000</th>\n",
       "      <th>USD</th>\n",
       "      <th>235000</th>\n",
       "      <th>US</th>\n",
       "      <th>0</th>\n",
       "      <th>US</th>\n",
       "      <th>M</th>\n",
       "      <td>2</td>\n",
       "    </tr>\n",
       "    <tr>\n",
       "      <th>EN</th>\n",
       "      <th>FT</th>\n",
       "      <th>Research Engineer</th>\n",
       "      <th>155000</th>\n",
       "      <th>USD</th>\n",
       "      <th>155000</th>\n",
       "      <th>US</th>\n",
       "      <th>0</th>\n",
       "      <th>US</th>\n",
       "      <th>M</th>\n",
       "      <td>2</td>\n",
       "    </tr>\n",
       "    <tr>\n",
       "      <th>SE</th>\n",
       "      <th>FT</th>\n",
       "      <th>Research Scientist</th>\n",
       "      <th>253750</th>\n",
       "      <th>USD</th>\n",
       "      <th>253750</th>\n",
       "      <th>ES</th>\n",
       "      <th>0</th>\n",
       "      <th>ES</th>\n",
       "      <th>M</th>\n",
       "      <td>2</td>\n",
       "    </tr>\n",
       "    <tr>\n",
       "      <th>2020</th>\n",
       "      <th>EN</th>\n",
       "      <th>FT</th>\n",
       "      <th>Data Engineer</th>\n",
       "      <th>1000000</th>\n",
       "      <th>INR</th>\n",
       "      <th>13493</th>\n",
       "      <th>IN</th>\n",
       "      <th>100</th>\n",
       "      <th>IN</th>\n",
       "      <th>L</th>\n",
       "      <td>2</td>\n",
       "    </tr>\n",
       "  </tbody>\n",
       "</table>\n",
       "<p>544 rows × 1 columns</p>\n",
       "</div>"
      ],
      "text/plain": [
       "                                                                                                                                                                   count\n",
       "work_year experience_level employment_type job_title          salary  salary_currency salary_in_usd employee_residence remote_ratio company_location company_size       \n",
       "2022      SE               FT              Data Scientist     141525  USD             141525        US                 100          US               M                21\n",
       "                                                              191475  USD             191475        US                 100          US               M                21\n",
       "2023      SE               FT              Data Engineer      252000  USD             252000        US                 0            US               M                13\n",
       "                                                              129000  USD             129000        US                 0            US               M                13\n",
       "2022      SE               FT              Data Engineer      130000  USD             130000        US                 0            US               M                12\n",
       "...                                                                                                                                                                  ...\n",
       "                                           Data Scientist     92000   USD             92000         US                 100          US               L                 2\n",
       "2023      EX               FT              Data Engineer      235000  USD             235000        US                 0            US               M                 2\n",
       "          EN               FT              Research Engineer  155000  USD             155000        US                 0            US               M                 2\n",
       "          SE               FT              Research Scientist 253750  USD             253750        ES                 0            ES               M                 2\n",
       "2020      EN               FT              Data Engineer      1000000 INR             13493         IN                 100          IN               L                 2\n",
       "\n",
       "[544 rows x 1 columns]"
      ]
     },
     "execution_count": 21,
     "metadata": {},
     "output_type": "execute_result"
    }
   ],
   "source": [
    "duplicates=pd.DataFrame(df.value_counts())\n",
    "duplicates[duplicates['count']>1]"
   ]
  },
  {
   "cell_type": "code",
   "execution_count": 22,
   "metadata": {},
   "outputs": [],
   "source": [
    "df.drop_duplicates(inplace=True)"
   ]
  },
  {
   "cell_type": "code",
   "execution_count": 23,
   "metadata": {},
   "outputs": [
    {
     "data": {
      "text/plain": [
       "(2584, 11)"
      ]
     },
     "execution_count": 23,
     "metadata": {},
     "output_type": "execute_result"
    }
   ],
   "source": [
    "df.shape"
   ]
  },
  {
   "cell_type": "markdown",
   "metadata": {},
   "source": [
    "## Exploratory Data Analytics (EDA)"
   ]
  },
  {
   "cell_type": "code",
   "execution_count": 38,
   "metadata": {},
   "outputs": [
    {
     "data": {
      "text/html": [
       "<div>\n",
       "<style scoped>\n",
       "    .dataframe tbody tr th:only-of-type {\n",
       "        vertical-align: middle;\n",
       "    }\n",
       "\n",
       "    .dataframe tbody tr th {\n",
       "        vertical-align: top;\n",
       "    }\n",
       "\n",
       "    .dataframe thead th {\n",
       "        text-align: right;\n",
       "    }\n",
       "</style>\n",
       "<table border=\"1\" class=\"dataframe\">\n",
       "  <thead>\n",
       "    <tr style=\"text-align: right;\">\n",
       "      <th></th>\n",
       "      <th>work_year</th>\n",
       "      <th>experience_level</th>\n",
       "      <th>employment_type</th>\n",
       "      <th>job_title</th>\n",
       "      <th>salary</th>\n",
       "      <th>salary_currency</th>\n",
       "      <th>salary_in_usd</th>\n",
       "      <th>employee_residence</th>\n",
       "      <th>remote_ratio</th>\n",
       "      <th>company_location</th>\n",
       "      <th>company_size</th>\n",
       "      <th>experience_numeric</th>\n",
       "    </tr>\n",
       "  </thead>\n",
       "  <tbody>\n",
       "    <tr>\n",
       "      <th>0</th>\n",
       "      <td>2023</td>\n",
       "      <td>SE</td>\n",
       "      <td>FT</td>\n",
       "      <td>Principal Data Scientist</td>\n",
       "      <td>80000</td>\n",
       "      <td>EUR</td>\n",
       "      <td>85847</td>\n",
       "      <td>ES</td>\n",
       "      <td>100</td>\n",
       "      <td>ES</td>\n",
       "      <td>L</td>\n",
       "      <td>3</td>\n",
       "    </tr>\n",
       "    <tr>\n",
       "      <th>1</th>\n",
       "      <td>2023</td>\n",
       "      <td>MI</td>\n",
       "      <td>CT</td>\n",
       "      <td>ML Engineer</td>\n",
       "      <td>30000</td>\n",
       "      <td>USD</td>\n",
       "      <td>30000</td>\n",
       "      <td>US</td>\n",
       "      <td>100</td>\n",
       "      <td>US</td>\n",
       "      <td>S</td>\n",
       "      <td>2</td>\n",
       "    </tr>\n",
       "    <tr>\n",
       "      <th>2</th>\n",
       "      <td>2023</td>\n",
       "      <td>MI</td>\n",
       "      <td>CT</td>\n",
       "      <td>ML Engineer</td>\n",
       "      <td>25500</td>\n",
       "      <td>USD</td>\n",
       "      <td>25500</td>\n",
       "      <td>US</td>\n",
       "      <td>100</td>\n",
       "      <td>US</td>\n",
       "      <td>S</td>\n",
       "      <td>2</td>\n",
       "    </tr>\n",
       "  </tbody>\n",
       "</table>\n",
       "</div>"
      ],
      "text/plain": [
       "   work_year experience_level employment_type                 job_title  \\\n",
       "0       2023               SE              FT  Principal Data Scientist   \n",
       "1       2023               MI              CT               ML Engineer   \n",
       "2       2023               MI              CT               ML Engineer   \n",
       "\n",
       "   salary salary_currency  salary_in_usd employee_residence  remote_ratio  \\\n",
       "0   80000             EUR          85847                 ES           100   \n",
       "1   30000             USD          30000                 US           100   \n",
       "2   25500             USD          25500                 US           100   \n",
       "\n",
       "  company_location company_size  experience_numeric  \n",
       "0               ES            L                   3  \n",
       "1               US            S                   2  \n",
       "2               US            S                   2  "
      ]
     },
     "execution_count": 38,
     "metadata": {},
     "output_type": "execute_result"
    }
   ],
   "source": [
    "df.head(3)"
   ]
  },
  {
   "cell_type": "markdown",
   "metadata": {},
   "source": [
    "**1. Which country offers the highest salaries?**"
   ]
  },
  {
   "cell_type": "code",
   "execution_count": 10,
   "metadata": {},
   "outputs": [
    {
     "name": "stdout",
     "output_type": "stream",
     "text": [
      "The country with the hightest salaries is IL with an average of $423834.0 (USD).\n"
     ]
    }
   ],
   "source": [
    "# Group by 'employee_residence' and calculate the mean salary in USD for each country\n",
    "salary_by_country = df.groupby('employee_residence')['salary_in_usd'].mean()\n",
    "\n",
    "highest_salary_country = salary_by_country.idxmax()\n",
    "highest_salary_value = salary_by_country.max()\n",
    "\n",
    "print(f'The country with the hightest salaries is {highest_salary_country} with an average of ${highest_salary_value} (USD).')\n"
   ]
  },
  {
   "cell_type": "markdown",
   "metadata": {},
   "source": [
    "Upon noticing that the average salary in Israel (IL) was extremely high, I decided to investigate the reasons behind this figure. To do so, I examined the available data regarding the number of employees at each experience level present in the dataset. "
   ]
  },
  {
   "cell_type": "markdown",
   "metadata": {},
   "source": [
    "**(EXTRA) Number of Employees of each experience level recorded in the dataset as working in Israel (IL):**"
   ]
  },
  {
   "cell_type": "code",
   "execution_count": 50,
   "metadata": {},
   "outputs": [
    {
     "name": "stdout",
     "output_type": "stream",
     "text": [
      "Number of employees in IL by experience level:\n",
      "experience_level\n",
      "SE    1\n",
      "MI    1\n",
      "Name: count, dtype: int64\n"
     ]
    }
   ],
   "source": [
    "# Filter the DataFrame for employees in country 'IL'\n",
    "il_employees = df[df['company_location'] == 'IL']\n",
    "\n",
    "# Count the occurrences of each experience level in Israel\n",
    "il_experience_count = il_employees['experience_level'].value_counts()\n",
    "\n",
    "print(\"Number of employees in IL by experience level:\")\n",
    "print(il_experience_count)"
   ]
  },
  {
   "cell_type": "markdown",
   "metadata": {},
   "source": [
    "### Observations:"
   ]
  },
  {
   "cell_type": "markdown",
   "metadata": {},
   "source": [
    "The average salary in Israel appears exceptionally high primarily due to the limited number of employees in the dataset for each experience level. With only 1 Senior (SE) and 1 Mid-level (MI) employee recorded, their potentially high salaries disproportionately elevate the average. This suggests that the dataset may not represent a comprehensive view of the workforce in Israel, leading to skewed average salary figures. Consequently, the high average may not accurately reflect the broader job market or the actual salary trends for different experience levels in the country."
   ]
  },
  {
   "cell_type": "markdown",
   "metadata": {},
   "source": [
    "**2. Which country has higher salary per job title?**"
   ]
  },
  {
   "cell_type": "code",
   "execution_count": 52,
   "metadata": {},
   "outputs": [
    {
     "name": "stdout",
     "output_type": "stream",
     "text": [
      "                         job_title company_location  salary_in_usd\n",
      "2    3D Computer Vision Researcher               CR   50000.000000\n",
      "8                     AI Developer               IN  300000.000000\n",
      "13                   AI Programmer               AU   55000.000000\n",
      "20                    AI Scientist               IL  423834.000000\n",
      "25              Analytics Engineer               US  157501.000000\n",
      "..                             ...              ...            ...\n",
      "339              Research Engineer               US  172327.925926\n",
      "345             Research Scientist               ES  211475.000000\n",
      "353         Software Data Engineer               SG   75020.000000\n",
      "354             Staff Data Analyst               CA   15000.000000\n",
      "355           Staff Data Scientist               US  105000.000000\n",
      "\n",
      "[93 rows x 3 columns]\n"
     ]
    }
   ],
   "source": [
    "# Group by 'job_title' and 'company_location' and calculate the mean salary in USD\n",
    "salary_by_job_country = df.groupby(['job_title', 'company_location'])['salary_in_usd'].mean()\n",
    "\n",
    "# Convert the Series to a DataFrame for easier manipulation\n",
    "salary_by_job_country_df = salary_by_job_country.reset_index()\n",
    "\n",
    "# Find the country with the highest salary for each job title\n",
    "highest_salary_per_job = salary_by_job_country_df.loc[salary_by_job_country_df.groupby('job_title')['salary_in_usd'].idxmax()]\n",
    "\n",
    "print(highest_salary_per_job)"
   ]
  },
  {
   "cell_type": "markdown",
   "metadata": {},
   "source": [
    "**3. Top 3 job titles with the highest salaries:** "
   ]
  },
  {
   "cell_type": "code",
   "execution_count": 51,
   "metadata": {},
   "outputs": [
    {
     "name": "stdout",
     "output_type": "stream",
     "text": [
      "Top 3 job titles with the highest salaries:\n",
      "job_title\n",
      "Data Science Tech Lead    375000.0\n",
      "Cloud Data Architect      250000.0\n",
      "Data Lead                 212500.0\n",
      "Name: salary_in_usd, dtype: float64\n"
     ]
    }
   ],
   "source": [
    "# Group by job title and calculate the mean salary in USD for each job title\n",
    "average_salary_by_title = df.groupby('job_title')['salary_in_usd'].mean()\n",
    "\n",
    "# Sort the results in descending order\n",
    "top_job_titles = average_salary_by_title.sort_values(ascending=False).head(3)\n",
    "\n",
    "print(\"Top 3 job titles with the highest salaries:\")\n",
    "print(top_job_titles)"
   ]
  },
  {
   "cell_type": "markdown",
   "metadata": {},
   "source": [
    "**4. What is the average salary for each level of experience?**"
   ]
  },
  {
   "cell_type": "code",
   "execution_count": 37,
   "metadata": {},
   "outputs": [
    {
     "data": {
      "image/png": "[encoded data removed]",
      "text/plain": [
       "<Figure size 800x600 with 1 Axes>"
      ]
     },
     "metadata": {},
     "output_type": "display_data"
    }
   ],
   "source": [
    "# Calculate the average salary for each experience level\n",
    "average_salary_by_experience = df.groupby('experience_level')['salary_in_usd'].mean()\n",
    "\n",
    "# Ensure the experience levels are in the specified order\n",
    "experience_order = ['EN', 'MI', 'SE', 'EX']\n",
    "average_salary_by_experience = average_salary_by_experience.reindex(experience_order)\n",
    "\n",
    "# Plot the bar chart\n",
    "plt.figure(figsize=(8, 6))\n",
    "average_salary_by_experience.plot(kind='bar', color='skyblue')\n",
    "\n",
    "plt.title('Average Salary by Experience Level', fontsize=16)\n",
    "plt.xlabel('Experience Level', fontsize=12)\n",
    "plt.ylabel('Average Salary in USD', fontsize=12)\n",
    "\n",
    "plt.xticks(rotation=0)  # Labels on x-axis are horizontal\n",
    "plt.show()"
   ]
  },
  {
   "cell_type": "markdown",
   "metadata": {},
   "source": [
    "**5. By wich percentage does the salary increase between experience levels?**"
   ]
  },
  {
   "cell_type": "code",
   "execution_count": 29,
   "metadata": {},
   "outputs": [
    {
     "name": "stdout",
     "output_type": "stream",
     "text": [
      "Increase from Entry-level to Mid-level: 40.2%\n",
      "Increase from Mid-level to Senior-level: 51.1%\n",
      "Increase from Senior-level to Executive: 24.2%\n"
     ]
    }
   ],
   "source": [
    "# Extracting the average salaries in the order of experience levels\n",
    "salary_EN = average_salary_by_experience['EN']\n",
    "salary_MI = average_salary_by_experience['MI']\n",
    "salary_SE = average_salary_by_experience['SE']\n",
    "salary_EX = average_salary_by_experience['EX']\n",
    "\n",
    "# Calculating percentage increases between levels\n",
    "increase_EN_to_MI = ((salary_MI - salary_EN) / salary_EN) * 100\n",
    "increase_MI_to_SE = ((salary_SE - salary_MI) / salary_MI) * 100\n",
    "increase_SE_to_EX = ((salary_EX - salary_SE) / salary_SE) * 100\n",
    "\n",
    "\n",
    "print(f\"Increase from Entry-level to Mid-level: {increase_EN_to_MI:.1f}%\")\n",
    "print(f\"Increase from Mid-level to Senior-level: {increase_MI_to_SE:.1f}%\")\n",
    "print(f\"Increase from Senior-level to Executive: {increase_SE_to_EX:.1f}%\")"
   ]
  },
  {
   "cell_type": "markdown",
   "metadata": {},
   "source": [
    "**6. Wich  experience level is more sought after?**\n"
   ]
  },
  {
   "cell_type": "code",
   "execution_count": 43,
   "metadata": {},
   "outputs": [
    {
     "name": "stdout",
     "output_type": "stream",
     "text": [
      "The most sought after experince level is SE as shown by the 1554 positions recorded in the dataset.\n"
     ]
    }
   ],
   "source": [
    "# Count the occurrences of each experience level\n",
    "experience_demand = df['experience_level'].value_counts()\n",
    "\n",
    "# Identify the most sought-after experience level\n",
    "most_sought_level = experience_demand.idxmax()\n",
    "most_sought_count = experience_demand.max()\n",
    "\n",
    "print(f'The most sought after experince level is {most_sought_level} as shown by the {most_sought_count} positions recorded in the dataset.')"
   ]
  },
  {
   "cell_type": "markdown",
   "metadata": {},
   "source": [
    "### Observations:"
   ]
  },
  {
   "cell_type": "markdown",
   "metadata": {},
   "source": [
    "The most sought-after experience level in the dataset is Senior (SE), with a total of 1,554 job positions recorded. This indicates a strong demand for professionals with senior-level experience, highlighting the value organizations place on expertise and leadership in the workforce. Additionally, executive roles require specific skills and extensive experience, leading companies to prioritize hiring senior professionals who can grow into these positions, resulting in a higher demand for senior and mid-level roles in the job market."
   ]
  },
  {
   "cell_type": "markdown",
   "metadata": {},
   "source": [
    "**7. What company size harbors the most employees?**"
   ]
  },
  {
   "cell_type": "code",
   "execution_count": null,
   "metadata": {},
   "outputs": [
    {
     "name": "stdout",
     "output_type": "stream",
     "text": [
      "The company size with the most employees from this dataset is M with a total of 2028 employees.\n"
     ]
    }
   ],
   "source": [
    "# Count the number of employees for each company size\n",
    "employee_count_by_size = df['company_size'].value_counts()\n",
    "\n",
    "# Identify the company size with the most employees\n",
    "most_employees_size = employee_count_by_size.idxmax()\n",
    "most_employees_count = employee_count_by_size.max()\n",
    "\n",
    "print(f'The company size with the most employees from this dataset is {most_employees_size} with a total of {most_employees_count} employees.')"
   ]
  },
  {
   "cell_type": "markdown",
   "metadata": {},
   "source": [
    "**8. Which countries have more large comapies?**"
   ]
  },
  {
   "cell_type": "code",
   "execution_count": 19,
   "metadata": {},
   "outputs": [
    {
     "name": "stdout",
     "output_type": "stream",
     "text": [
      "Countries with the most large companies:\n",
      "company_location\n",
      "US    263\n",
      "IN     38\n",
      "GB     20\n",
      "CA     18\n",
      "DE     17\n",
      "FR     10\n",
      "NL     10\n",
      "AU      8\n",
      "ES      6\n",
      "PT      5\n",
      "dtype: int64\n"
     ]
    }
   ],
   "source": [
    "# Filter the DataFrame to include only large companies ('L' indicates large)\n",
    "large_companies = df[df['company_size'] == 'L']\n",
    "\n",
    "# Group by country and count the number of large companies in each\n",
    "large_companies_by_country = large_companies.groupby('company_location').size()\n",
    "\n",
    "# Sort the result in descending order to find the country with the most large companies\n",
    "countries_with_most_large_companies = large_companies_by_country.sort_values(ascending=False).head(10)\n",
    "\n",
    "print(\"Countries with the most large companies:\")\n",
    "print(countries_with_most_large_companies)"
   ]
  },
  {
   "cell_type": "markdown",
   "metadata": {},
   "source": [
    "**9. Which company size offers higher salaries?**"
   ]
  },
  {
   "cell_type": "code",
   "execution_count": 5,
   "metadata": {},
   "outputs": [
    {
     "name": "stdout",
     "output_type": "stream",
     "text": [
      "The company size with the highest salaries are M with an average of $143130.5 (USD).\n"
     ]
    }
   ],
   "source": [
    "salary_by_size = df.groupby('company_size')['salary_in_usd'].mean()\n",
    "\n",
    "highest_salary_size = salary_by_size.idxmax()\n",
    "highest_salary_value = salary_by_size.max()\n",
    "\n",
    "print(f'The company size with the highest salaries are {highest_salary_size} with an average of ${highest_salary_value:.1f} (USD).')"
   ]
  }
 ],
 "metadata": {
  "kernelspec": {
   "display_name": "Python 3",
   "language": "python",
   "name": "python3"
  },
  "language_info": {
   "codemirror_mode": {
    "name": "ipython",
    "version": 3
   },
   "file_extension": ".py",
   "mimetype": "text/x-python",
   "name": "python",
   "nbconvert_exporter": "python",
   "pygments_lexer": "ipython3",
   "version": "3.11.9"
  }
 },
 "nbformat": 4,
 "nbformat_minor": 2
}
